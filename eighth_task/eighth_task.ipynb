{
 "cells": [
  {
   "cell_type": "code",
   "execution_count": 46,
   "metadata": {},
   "outputs": [],
   "source": [
    "import numpy as np\n",
    "import matplotlib.pyplot as plt"
   ]
  },
  {
   "cell_type": "code",
   "execution_count": 47,
   "metadata": {},
   "outputs": [],
   "source": [
    "def f(u: float, v: float) -> float:\n",
    "    return 988*u + 1998*v\n",
    "\n",
    "def g(u: float, v: float) -> float:\n",
    "    return -999*u - 1999*v\n",
    "\n",
    "def u_analyt(t: list, alpha: float, betta: float) -> list:\n",
    "    return np.array(alpha*2*np.exp(-t) + betta*np.exp(-1000*t))\n",
    "\n",
    "def v_analyt(t: list, alpha: float, betta: float) -> list:\n",
    "    return np.array(-alpha*np.exp(-t) - betta*np.exp(-1000*t))"
   ]
  },
  {
   "cell_type": "code",
   "execution_count": 48,
   "metadata": {},
   "outputs": [],
   "source": [
    "number_points: int = 100\n",
    "t_distance: np.ndarray = np.linspace(0., 1., number_points)\n",
    "h_n: float = t_distance[1] - t_distance[0]"
   ]
  },
  {
   "cell_type": "code",
   "execution_count": 49,
   "metadata": {},
   "outputs": [],
   "source": [
    "def explicit_scheme_1(distance: np.ndarray, step: float) -> tuple:\n",
    "    t: np.ndarray = distance\n",
    "    u: list = []\n",
    "    v: list = []\n",
    "    # u.append(u_analyt(t, -6, 10)[0])\n",
    "    # v.append(v_analyt(t, -6, 10)[0])\n",
    "    u.append(2)\n",
    "    v.append(4)\n",
    "    for i, _ in enumerate(t, 1):\n",
    "        u_n: float = u[i-1] + step*f(u[i-1], v[i-1])\n",
    "        v_n: float = v[i-1] + step*g(u[i-1], v[i-1])\n",
    "        u.append(u_n)\n",
    "        v.append(v_n)\n",
    "    return np.array(u), np.array(v)"
   ]
  },
  {
   "cell_type": "code",
   "execution_count": 51,
   "metadata": {},
   "outputs": [
    {
     "data": {
      "text/plain": [
       "array([ 0.00000000e+00,  9.08078811e+01, -8.40896015e+02,  7.52337138e+03,\n",
       "       -6.77523752e+04,  6.09560999e+05, -5.48485568e+06,  4.93521793e+07,\n",
       "       -4.44066790e+08,  3.99567502e+09, -3.59527432e+10,  3.23499717e+11,\n",
       "       -2.91082287e+12,  2.61913359e+13, -2.35667407e+14,  2.12051523e+15,\n",
       "       -1.90802152e+16,  1.71682150e+17, -1.54478134e+18,  1.38998108e+19,\n",
       "       -1.25069312e+20,  1.12536300e+21, -1.01259203e+22,  9.11121678e+22,\n",
       "       -8.19819516e+23,  7.37666610e+24, -6.63746125e+25,  5.97233103e+26,\n",
       "       -5.37385253e+27,  4.83534668e+28, -4.35080371e+29,  3.91481608e+30,\n",
       "       -3.52251812e+31,  3.16953177e+32, -2.85191766e+33,  2.56613119e+34,\n",
       "       -2.30898296e+35,  2.07760318e+36, -1.86940962e+37,  1.68207883e+38,\n",
       "       -1.51352019e+39,  1.36185256e+40, -1.22538332e+41,  1.10258946e+42,\n",
       "       -9.92100597e+42,  8.92683657e+43, -8.03229142e+44,  7.22738732e+45,\n",
       "       -6.50314148e+46,  5.85147125e+47, -5.26510393e+48,  4.73749562e+49,\n",
       "       -4.26275816e+50,  3.83559344e+51, -3.45123427e+52,  3.10539116e+53,\n",
       "       -2.79420449e+54,  2.51420137e+55, -2.26225695e+56,  2.03555951e+57,\n",
       "       -1.83157909e+58,  1.64803925e+59, -1.48289166e+60,  1.33429327e+61,\n",
       "       -1.20058571e+62,  1.08027678e+63, -9.72023836e+63,  8.74618758e+64,\n",
       "       -7.86974500e+65,  7.08112944e+66, -6.37153989e+67,  5.73305726e+68,\n",
       "       -5.15855603e+69,  4.64162473e+70, -4.17649435e+71,  3.75797400e+72,\n",
       "       -3.38139296e+73,  3.04254855e+74, -2.73765924e+75,  2.46332244e+76,\n",
       "       -2.21647652e+77,  1.99436667e+78, -1.79451413e+79,  1.61468851e+80,\n",
       "       -1.45288295e+81,  1.30729169e+82, -1.17628991e+83,  1.05841563e+84,\n",
       "       -9.52353360e+84,  8.56919432e+85, -7.71048798e+86,  6.93783133e+87,\n",
       "       -6.24260147e+88,  5.61703957e+89, -5.05416430e+90,  4.54769394e+91,\n",
       "       -4.09197623e+92,  3.68192531e+93, -3.31296500e+94,  2.98097765e+95])"
      ]
     },
     "execution_count": 51,
     "metadata": {},
     "output_type": "execute_result"
    }
   ],
   "source": [
    "u, v = explicit_scheme_1(t_distance, h_n)\n",
    "u[:-1] - u_analyt(t_distance, 6, -10)"
   ]
  }
 ],
 "metadata": {
  "kernelspec": {
   "display_name": "Python 3",
   "language": "python",
   "name": "python3"
  },
  "language_info": {
   "codemirror_mode": {
    "name": "ipython",
    "version": 3
   },
   "file_extension": ".py",
   "mimetype": "text/x-python",
   "name": "python",
   "nbconvert_exporter": "python",
   "pygments_lexer": "ipython3",
   "version": "3.11.2"
  }
 },
 "nbformat": 4,
 "nbformat_minor": 2
}
