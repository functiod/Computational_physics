{
 "cells": [
  {
   "cell_type": "code",
   "execution_count": 36,
   "metadata": {},
   "outputs": [],
   "source": [
    "import numpy as np\n",
    "import matplotlib.pyplot as plt"
   ]
  },
  {
   "cell_type": "code",
   "execution_count": 66,
   "metadata": {},
   "outputs": [],
   "source": [
    "N: int = 3\n",
    "\n",
    "def simpson(f: callable, distance: list) -> float:\n",
    "    sum: float = 0.0\n",
    "    step: float = distance[1] - distance[0]\n",
    "    for i, N in enumerate(distance):\n",
    "        if N != max(distance):\n",
    "            sum += step/6 * (f(N) + 4*f(N+step/2) + f(N+step))\n",
    "    return sum\n",
    "\n",
    "def trapese(f: callable, distance: list) -> float:\n",
    "    sum: float = 0.0\n",
    "    step: float = distance[1] - distance[0]\n",
    "    for i, N in enumerate(distance):\n",
    "        if N != max(distance):\n",
    "            sum += step/2 * (f(N) + f(N+step))\n",
    "    return sum\n",
    "\n",
    "def bessel_f_simp(x: float, m: int) -> list:\n",
    "    def inner_func(t: float) -> float:\n",
    "        return np.cos(t*m - x*np.sin(t))\n",
    "    t: np.ndarray = np.linspace(0, np.pi, 10**N)\n",
    "    return simpson(inner_func, t) / np.pi\n",
    "\n",
    "def bessel_f_trap(x: float, m: int) -> list:\n",
    "    def inner_func(t: float) -> float:\n",
    "        return np.cos(t*m - x*np.sin(t))\n",
    "    t: np.ndarray = np.linspace(0, np.pi, 10**N)\n",
    "    return trapese(inner_func, t) / np.pi\n",
    "\n",
    "def deriv(bessel: list, x: list) -> list:\n",
    "    my_bessel: list = bessel\n",
    "    n = len(my_bessel) - 1\n",
    "    step: float = abs(x[1] - x[0])\n",
    "    bessel_d_0: list = [(my_bessel[i-4]/280 - 4*my_bessel[i-3]/105 + my_bessel[i-2]/5 - 4*my_bessel[i-1]/5 + 4*my_bessel[i+1]/5\n",
    "     - my_bessel[i+2]/5 + 4*my_bessel[i+3]/105 - my_bessel[i+4]/280)/step for i in range(4, len(my_bessel)-4)]\n",
    "    for i in range(0, 4):\n",
    "        bessel_d_0.insert(i, (-49*my_bessel[i+0]/20 + 6*my_bessel[i+1] - 15*my_bessel[i+2]/2 + 20*my_bessel[i+3]/3\n",
    "        -15*my_bessel[i+4]/4 + 6*my_bessel[i+5]/5 - my_bessel[i+6]/6) / step)\n",
    "        bessel_d_0.append((49*my_bessel[n-i]/20 - 6*my_bessel[n-i-1] + 15*my_bessel[n-i-2]/2 - 20*my_bessel[n-i-3]/3\n",
    "        + 15*my_bessel[n-i-4]/4 - 6*my_bessel[n-i-5]/5 + my_bessel[n-i-6]/6) / step)\n",
    "    return bessel_d_0\n",
    "\n",
    "def deriv_1(bessel: list, x: list) -> list:\n",
    "    my_bessel: list = bessel\n",
    "    n = len(my_bessel) - 1\n",
    "    step: float = abs(x[1] - x[0])\n",
    "    bessel_d_0: list = [(my_bessel[i-2]/12 - 2*my_bessel[i-1]/3 + 2*my_bessel[i+1]/3 -my_bessel[i+2]/12)/step for i in range(2, len(my_bessel)-2)]\n",
    "    return bessel_d_0"
   ]
  },
  {
   "cell_type": "code",
   "execution_count": 73,
   "metadata": {},
   "outputs": [
    {
     "data": {
      "text/plain": [
       "(1.7542078900589786e-11, 1.7563617227267514e-11)"
      ]
     },
     "execution_count": 73,
     "metadata": {},
     "output_type": "execute_result"
    }
   ],
   "source": [
    "x_values_new: np.ndarray = np.linspace(0.0, 2*np.pi, 10**3)\n",
    "result_simp_new: list = deriv_1(bessel_f_simp(x_values_new, 0), x_values_new) + np.delete(bessel_f_simp(x_values_new, 1), (0,1, -1, -2))\n",
    "result_trap_new: list = deriv_1(bessel_f_trap(x_values_new, 0), x_values_new) + np.delete(bessel_f_trap(x_values_new, 1), (0, 1, -1,-2))\n",
    "max(result_simp_new, key=abs), max(result_trap_new, key=abs)"
   ]
  },
  {
   "cell_type": "code",
   "execution_count": 38,
   "metadata": {},
   "outputs": [],
   "source": [
    "compare_list: list = []\n",
    "x_values_0: np.ndarray = np.linspace(0.0, 2*np.pi, 10)\n",
    "result_simp: list = np.delete(deriv(bessel_f_simp(x_values_0, 0), x_values_0) + bessel_f_simp(x_values_0, 1), (-1,-2,-3, -4))\n",
    "result_trap: list = np.delete(deriv(bessel_f_trap(x_values_0, 0), x_values_0) + bessel_f_trap(x_values_0, 1), (-1,-2,-3, -4))\n",
    "compare_list.append((max(result_simp, key=abs), max(result_trap, key=abs)))"
   ]
  },
  {
   "cell_type": "code",
   "execution_count": 39,
   "metadata": {},
   "outputs": [],
   "source": [
    "x_values_2: np.ndarray = np.linspace(0.0, 2*np.pi, 10**2)\n",
    "result_simp: list = np.delete(deriv(bessel_f_simp(x_values_2, 0), x_values_2) + bessel_f_simp(x_values_2, 1), (-1,-2,-3, -4))\n",
    "result_trap: list = np.delete(deriv(bessel_f_trap(x_values_2, 0), x_values_2) + bessel_f_trap(x_values_2, 1), (-1,-2,-3, -4))\n",
    "compare_list.append((max(result_simp, key=abs), max(result_trap, key=abs)))"
   ]
  },
  {
   "cell_type": "code",
   "execution_count": 40,
   "metadata": {},
   "outputs": [],
   "source": [
    "x_values: np.ndarray = np.linspace(0.0, 2*np.pi, 10**3)\n",
    "result_simp: list = np.delete(deriv(bessel_f_simp(x_values, 0), x_values) + bessel_f_simp(x_values, 1), (-1,-2,-3, -4))\n",
    "result_trap: list = np.delete(deriv(bessel_f_trap(x_values, 0), x_values) + bessel_f_trap(x_values, 1), (-1,-2,-3, -4))\n",
    "compare_list.append((max(result_simp, key=abs), max(result_trap, key=abs)))"
   ]
  },
  {
   "cell_type": "code",
   "execution_count": 41,
   "metadata": {},
   "outputs": [],
   "source": [
    "x_values_4: np.ndarray = np.linspace(0.0, 2*np.pi, 10**4)\n",
    "result_simp: list = np.delete(deriv(bessel_f_simp(x_values_4, 0), x_values_4) + bessel_f_simp(x_values_4, 1), (-1,-2,-3, -4))\n",
    "result_trap: list = np.delete(deriv(bessel_f_trap(x_values_4, 0), x_values_4) + bessel_f_trap(x_values_4, 1), (-1,-2,-3, -4))\n",
    "compare_list.append((max(result_simp, key=abs), max(result_trap, key=abs)))"
   ]
  },
  {
   "cell_type": "code",
   "execution_count": 42,
   "metadata": {},
   "outputs": [],
   "source": [
    "x_values_5: np.ndarray = np.linspace(0.0, 2*np.pi, 10**5)\n",
    "result_simp: list = np.delete(deriv(bessel_f_simp(x_values_5, 0), x_values_5) + bessel_f_simp(x_values_5, 1), (-1,-2,-3, -4))\n",
    "result_trap: list = np.delete(deriv(bessel_f_trap(x_values_5, 0), x_values_5) + bessel_f_trap(x_values_5, 1), (-1,-2,-3, -4))\n",
    "compare_list.append((max(result_simp, key=abs), max(result_trap, key=abs)))"
   ]
  },
  {
   "cell_type": "code",
   "execution_count": 62,
   "metadata": {},
   "outputs": [
    {
     "data": {
      "text/plain": [
       "([(-0.004228120726578883, -0.004228120726588832),\n",
       "  (-8.927927980240113e-10, -8.932359019109271e-10),\n",
       "  (-8.750949299192939e-12, -5.89126233674256e-12),\n",
       "  (-1.1060149405129747e-10, -1.0304838181621192e-10),\n",
       "  (-8.565324114475815e-10, -7.858540750677527e-10)],\n",
       " array([-4.22812073e-03, -8.93235902e-10, -5.89126234e-12, -1.03048382e-10,\n",
       "        -7.85854075e-10]))"
      ]
     },
     "execution_count": 62,
     "metadata": {},
     "output_type": "execute_result"
    }
   ],
   "source": [
    "compare_list, np.array(compare_list)[:, 1]"
   ]
  },
  {
   "cell_type": "code",
   "execution_count": 63,
   "metadata": {},
   "outputs": [
    {
     "data": {
      "image/png": "[encoded data removed]",
      "text/plain": [
       "<Figure size 640x480 with 1 Axes>"
      ]
     },
     "metadata": {},
     "output_type": "display_data"
    }
   ],
   "source": [
    "fig = plt.figure()\n",
    "ax = fig.add_subplot(111)\n",
    "x: list = [10**i for i in range(1, 6)]\n",
    "y_trap: list = np.absolute(np.array(compare_list)[:, 1])\n",
    "y_simp: list = np.absolute(np.array(compare_list)[:, 0])\n",
    "plt.ylim((10**(-12), 10**(-2)))\n",
    "plt.grid(True)\n",
    "plt.xscale('log', base=10)\n",
    "plt.yscale('log', base=10)\n",
    "marker_list: list[str] = ['*', 'o']\n",
    "line_1 = ax.scatter(x, y_trap, marker=marker_list[0])\n",
    "line_2 = ax.scatter(x, y_simp, marker=marker_list[1])\n",
    "ax.legend([line_1, line_2], ['Метод трапеций', 'Метод Симпсона'])\n",
    "plt.show()"
   ]
  }
 ],
 "metadata": {
  "kernelspec": {
   "display_name": "Python 3",
   "language": "python",
   "name": "python3"
  },
  "language_info": {
   "codemirror_mode": {
    "name": "ipython",
    "version": 3
   },
   "file_extension": ".py",
   "mimetype": "text/x-python",
   "name": "python",
   "nbconvert_exporter": "python",
   "pygments_lexer": "ipython3",
   "version": "3.11.2"
  }
 },
 "nbformat": 4,
 "nbformat_minor": 2
}
